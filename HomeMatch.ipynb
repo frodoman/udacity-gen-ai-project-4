{
 "cells": [
  {
   "cell_type": "markdown",
   "id": "a108af04",
   "metadata": {},
   "source": [
    "This is a starter notebook for the project, you'll have to import the libraries you'll need, you can find a list of the ones available in this workspace in the requirements.txt file in this workspace. "
   ]
  },
  {
   "cell_type": "markdown",
   "id": "4fc99032-628c-4021-bfe2-ce6b6f1a176c",
   "metadata": {},
   "source": [
    "\n",
    "# Project: Personalized Real Estate Agent\n",
    "\n",
    "An example of AI agent built by Python, Langchain, Vector Database and OpenAI's API.\n"
   ]
  },
  {
   "cell_type": "markdown",
   "id": "a54b22ef-70b8-43df-8e1e-086711b06d27",
   "metadata": {},
   "source": [
    "## Step 1: Synthetic Data Generation\n",
    "\n",
    "Generate a list of at least 10 real estates using LLM, \n",
    "which will be served as the data source to store into the vector database.\n"
   ]
  },
  {
   "cell_type": "code",
   "execution_count": 1,
   "id": "6554fd4c",
   "metadata": {},
   "outputs": [
    {
     "name": "stderr",
     "output_type": "stream",
     "text": [
      "/Users/x_coder/Library/Python/3.9/lib/python/site-packages/urllib3/__init__.py:35: NotOpenSSLWarning: urllib3 v2 only supports OpenSSL 1.1.1+, currently the 'ssl' module is compiled with 'LibreSSL 2.8.3'. See: https://github.com/urllib3/urllib3/issues/3020\n",
      "  warnings.warn(\n"
     ]
    }
   ],
   "source": [
    "# Import Python Packages\n",
    "\n",
    "from langchain.llms import OpenAI\n",
    "from langchain.llms import OpenAI\n",
    "from langchain.prompts import PromptTemplate\n",
    "from langchain.output_parsers import PydanticOutputParser\n",
    "from pydantic import BaseModel, Field, NonNegativeInt\n",
    "from typing import List\n",
    "from random import sample \n",
    "from langchain.document_loaders.csv_loader import CSVLoader \n"
   ]
  },
  {
   "cell_type": "code",
   "execution_count": 2,
   "id": "c2c5a61e-f5cf-46b2-b9ea-b70a48040ccd",
   "metadata": {},
   "outputs": [],
   "source": [
    "\n",
    "# Step 1.1: Initialize OpenAI\n",
    "\n",
    "from langchain_openai import ChatOpenAI\n",
    "from dotenv import load_dotenv\n",
    "import os\n",
    "\n",
    "OPENAI_API_KEY = os.getenv(\"OPENAI_API_KEY\")\n",
    "\n",
    "model_name = \"gpt-3.5-turbo\"\n",
    "llm = ChatOpenAI(model=model_name, temperature=0, api_key=OPENAI_API_KEY)\n",
    "#llm = OpenAI(model_name = model_name, temperature=0.0)\n",
    "\n"
   ]
  },
  {
   "cell_type": "code",
   "execution_count": 3,
   "id": "64c7c8e2-8af3-489e-a069-838d80124aca",
   "metadata": {},
   "outputs": [
    {
     "name": "stdout",
     "output_type": "stream",
     "text": [
      "The output should be formatted as a JSON instance that conforms to the JSON schema below.\n",
      "\n",
      "As an example, for the schema {\"properties\": {\"foo\": {\"title\": \"Foo\", \"description\": \"a list of strings\", \"type\": \"array\", \"items\": {\"type\": \"string\"}}}, \"required\": [\"foo\"]}\n",
      "the object {\"foo\": [\"bar\", \"baz\"]} is a well-formatted instance of the schema. The object {\"properties\": {\"foo\": [\"bar\", \"baz\"]}} is not well-formatted.\n",
      "\n",
      "Here is the output schema:\n",
      "```\n",
      "{\"properties\": {\"title\": {\"description\": \"The name or title of a house\", \"title\": \"Title\", \"type\": \"string\"}, \"bedroom\": {\"description\": \"Number of bedroom for a house\", \"title\": \"Bedroom\", \"type\": \"integer\"}, \"bathroom\": {\"description\": \"Number of bathroom for a house\", \"title\": \"Bathroom\", \"type\": \"integer\"}, \"garage\": {\"description\": \"Number of garage for a house\", \"title\": \"Garage\", \"type\": \"integer\"}, \"price_usd\": {\"description\": \"The price of a house in USD\", \"title\": \"Price Usd\", \"type\": \"integer\"}, \"size_sqft\": {\"description\": \"The size of a house in square feet\", \"title\": \"Size Sqft\", \"type\": \"integer\"}, \"description\": {\"description\": \"The 200-word description of a house\", \"title\": \"Description\", \"type\": \"string\"}, \"neighborhood\": {\"description\": \"The brief summary or name of the neighborhood for the house\", \"title\": \"Neighborhood\", \"type\": \"string\"}, \"neighborhood_details\": {\"description\": \"The 200-word description of the neighborhood\", \"title\": \"Neighborhood Details\", \"type\": \"string\"}}, \"required\": [\"title\", \"bedroom\", \"bathroom\", \"garage\", \"price_usd\", \"size_sqft\", \"description\", \"neighborhood\", \"neighborhood_details\"]}\n",
      "```\n"
     ]
    }
   ],
   "source": [
    "\n",
    "# Step 1.2: Define data model for parser\n",
    "\n",
    "class RealEstate(BaseModel):\n",
    "    title: str = Field(description=\"The name or title of a house\")\n",
    "    bedroom: int = Field(description=\"Number of bedroom for a house\")\n",
    "    bathroom: int = Field(description=\"Number of bathroom for a house\")\n",
    "    garage: int = Field(description=\"Number of garage for a house\")\n",
    "    price_usd: int = Field(description=\"The price of a house in USD\")\n",
    "    size_sqft: int = Field(description=\"The size of a house in square feet\") \n",
    "    description: str = Field(description=\"The 200-word description of a house\")\n",
    "    neighborhood: str = Field(description=\"The brief summary or name of the neighborhood for the house\")\n",
    "    neighborhood_details: str = Field(description=\"The 200-word description of the neighborhood\")\n",
    "\n",
    "\n",
    "parser = PydanticOutputParser(pydantic_object=RealEstate)\n",
    "print(parser.get_format_instructions())"
   ]
  },
  {
   "cell_type": "code",
   "execution_count": 26,
   "id": "f81230e4-1419-46d7-be64-5ecb034836a1",
   "metadata": {},
   "outputs": [
    {
     "name": "stdout",
     "output_type": "stream",
     "text": [
      "{'houses': [{'title': 'Modern Luxury Home with Stunning Views', 'bedroom': 4, 'bathroom': 3, 'garage': 2, 'price_usd': 1500000, 'size_sqft': 3500, 'description': \"This modern luxury home is a dream come true for those seeking elegance and comfort. With 4 spacious bedrooms, 3 luxurious bathrooms, and a 2-car garage, this home offers the perfect blend of style and functionality. The open-concept design allows for seamless flow between the living spaces, while the large windows provide breathtaking views of the surrounding landscape. The gourmet kitchen is a chef's delight, featuring high-end appliances and custom cabinetry. The master suite is a true retreat, with a spa-like bathroom and a private balcony. The outdoor space is perfect for entertaining, with a spacious patio and a beautifully landscaped yard.\", 'neighborhood': 'Hollywood Hills', 'neighborhood_details': 'Hollywood Hills is a prestigious neighborhood known for its stunning views, celebrity residents, and luxurious homes. Nestled in the hills overlooking Los Angeles, this neighborhood offers a peaceful retreat from the hustle and bustle of the city. Residents enjoy easy access to hiking trails, trendy restaurants, and world-class shopping. With its close proximity to Hollywood and Beverly Hills, Hollywood Hills is the perfect blend of natural beauty and urban convenience.'}, {'title': 'Charming Craftsman Bungalow in Historic District', 'bedroom': 3, 'bathroom': 2, 'garage': 1, 'price_usd': 500000, 'size_sqft': 2000, 'description': 'Step back in time with this charming craftsman bungalow located in a historic district. Featuring 3 cozy bedrooms, 2 vintage bathrooms, and a detached garage, this home exudes character and charm. The spacious living room is perfect for relaxing with family and friends, while the formal dining room is ideal for hosting dinner parties. The kitchen has been updated with modern appliances and custom tile work. The backyard is a private oasis, with a deck and lush landscaping. This home is a true gem for those who appreciate the beauty of yesteryear.', 'neighborhood': 'Old Town', 'neighborhood_details': 'Old Town is a quaint and picturesque neighborhood filled with historic homes and tree-lined streets. Located just minutes from downtown, this neighborhood offers the perfect blend of small-town charm and urban convenience. Residents enjoy easy access to local shops, cafes, and parks. With its well-preserved architecture and sense of community, Old Town is a sought-after destination for those looking to escape the hustle and bustle of the city.'}, {'title': 'Contemporary Loft with Industrial Chic Vibes', 'bedroom': 2, 'bathroom': 2, 'garage': 0, 'price_usd': 800000, 'size_sqft': 1800, 'description': \"Experience urban living at its finest in this contemporary loft with industrial chic vibes. Featuring 2 spacious bedrooms, 2 sleek bathrooms, and an open-concept living area, this loft is perfect for those who appreciate modern design. The high ceilings and exposed ductwork add a touch of industrial flair, while the large windows flood the space with natural light. The gourmet kitchen is a chef's dream, with stainless steel appliances and quartz countertops. The master suite is a true sanctuary, with a spa-like bathroom and a walk-in closet. The rooftop deck offers stunning views of the city skyline, perfect for entertaining or relaxing.\", 'neighborhood': 'Downtown Arts District', 'neighborhood_details': 'The Downtown Arts District is a vibrant and creative neighborhood known for its eclectic mix of art galleries, boutiques, and restaurants. Located in the heart of the city, this neighborhood is a hub for artists, musicians, and foodies alike. Residents enjoy easy access to cultural events, live music venues, and trendy cafes. With its industrial-chic architecture and hip vibe, the Downtown Arts District is the perfect place for those looking to immerse themselves in the local arts scene.'}, {'title': 'Luxurious Waterfront Estate with Private Dock', 'bedroom': 5, 'bathroom': 4, 'garage': 3, 'price_usd': 3000000, 'size_sqft': 5000, 'description': \"Live the life of luxury in this waterfront estate with a private dock. Boasting 5 elegant bedrooms, 4 opulent bathrooms, and a 3-car garage, this home is a true masterpiece. The grand foyer welcomes you with soaring ceilings and a sweeping staircase, while the formal living room is perfect for entertaining guests. The gourmet kitchen is a chef's dream, with top-of-the-line appliances and a large island. The master suite is a private retreat, with a spa-like bathroom and a balcony overlooking the water. The outdoor space is an entertainer's paradise, with a pool, spa, and outdoor kitchen. This waterfront estate is a rare find for those seeking the ultimate in luxury living.\", 'neighborhood': 'Waterfront Community', 'neighborhood_details': 'The Waterfront Community is a prestigious neighborhood known for its stunning views of the water and luxurious homes. Nestled along the shoreline, this neighborhood offers a peaceful retreat from the hustle and bustle of the city. Residents enjoy easy access to boating, fishing, and water sports. With its close-knit community and sense of exclusivity, the Waterfront Community is the perfect place for those looking to live the waterfront lifestyle.'}, {'title': 'Spanish Colonial Revival with Old-World Charm', 'bedroom': 6, 'bathroom': 5, 'garage': 2, 'price_usd': 2500000, 'size_sqft': 4500, 'description': \"Step back in time with this Spanish Colonial Revival home that exudes old-world charm. With 6 spacious bedrooms, 5 vintage bathrooms, and a 2-car garage, this home is a true architectural gem. The grand entryway features a wrought-iron staircase and hand-painted tiles, while the formal living room boasts a stunning fireplace and beamed ceilings. The gourmet kitchen is a chef's delight, with custom cabinetry and a cozy breakfast nook. The master suite is a luxurious retreat, with a spa-like bathroom and a private balcony. The outdoor courtyard is perfect for al fresco dining, with a fountain and lush landscaping.\", 'neighborhood': 'Historic District', 'neighborhood_details': 'The Historic District is a charming neighborhood filled with well-preserved homes and rich history. Located in the heart of the city, this neighborhood offers a glimpse into the past with its beautiful architecture and tree-lined streets. Residents enjoy easy access to local shops, cafes, and cultural attractions. With its sense of community and small-town charm, the Historic District is a sought-after destination for those looking to live in a piece of history.'}, {'title': 'Modern Farmhouse with Rustic Elegance', 'bedroom': 4, 'bathroom': 3, 'garage': 2, 'price_usd': 1200000, 'size_sqft': 3000, 'description': \"Experience the perfect blend of modern design and rustic elegance in this modern farmhouse. With 4 cozy bedrooms, 3 stylish bathrooms, and a 2-car garage, this home is a true retreat. The open-concept living area features a vaulted ceiling and a stone fireplace, creating a warm and inviting atmosphere. The gourmet kitchen is a chef's dream, with custom cabinetry and a farmhouse sink. The master suite is a private sanctuary, with a spa-like bathroom and a walk-in closet. The outdoor patio is ideal for entertaining, with a fire pit and stunning views of the surrounding countryside.\", 'neighborhood': 'Rural Countryside', 'neighborhood_details': \"The Rural Countryside is a peaceful and serene neighborhood known for its rolling hills and picturesque landscapes. Located just outside the city, this neighborhood offers a quiet escape from the hustle and bustle of urban life. Residents enjoy easy access to hiking trails, wineries, and farmers' markets. With its sense of tranquility and natural beauty, the Rural Countryside is the perfect place for those looking to live in harmony with nature.\"}, {'title': 'Mid-Century Modern Gem with Panoramic Views', 'bedroom': 3, 'bathroom': 2, 'garage': 1, 'price_usd': 700000, 'size_sqft': 2200, 'description': \"Discover the beauty of mid-century modern design in this gem with panoramic views. Featuring 3 spacious bedrooms, 2 sleek bathrooms, and a 1-car garage, this home is a true work of art. The open-concept living area is flooded with natural light, thanks to the floor-to-ceiling windows that offer stunning views of the surrounding landscape. The gourmet kitchen is a chef's dream, with stainless steel appliances and quartz countertops. The master suite is a private oasis, with a spa-like bathroom and a walk-in closet. The outdoor deck is perfect for enjoying the sunset, with a fire pit and built-in seating.\", 'neighborhood': 'Mid-Century Modern District', 'neighborhood_details': 'The Mid-Century Modern District is a trendy and stylish neighborhood known for its iconic architecture and sleek design. Located in the heart of the city, this neighborhood is a mecca for design enthusiasts and architecture buffs. Residents enjoy easy access to art galleries, boutiques, and hip cafes. With its retro-chic vibe and sense of nostalgia, the Mid-Century Modern District is the perfect place for those looking to live in a piece of design history.'}, {'title': 'Coastal Retreat with Beachfront Access', 'bedroom': 4, 'bathroom': 3, 'garage': 2, 'price_usd': 1800000, 'size_sqft': 2800, 'description': 'Escape to your own coastal retreat with beachfront access in this stunning home. With 4 spacious bedrooms, 3 luxurious bathrooms, and a 2-car garage, this home is a true oasis. The open-concept living area is perfect for entertaining, with a gourmet kitchen, dining area, and living room that open to the outdoor deck. The master suite is a private sanctuary, with a spa-like bathroom and a balcony overlooking the ocean. The outdoor space is ideal for enjoying the sun and surf, with a private beachfront and a fire pit. This coastal retreat is a rare find for those seeking the ultimate in beachfront living.', 'neighborhood': 'Coastal Community', 'neighborhood_details': 'The Coastal Community is a sought-after neighborhood known for its stunning beaches and relaxed vibe. Nestled along the coastline, this neighborhood offers easy access to water sports, beachfront dining, and seaside shops. Residents enjoy a laid-back lifestyle with plenty of opportunities for outdoor recreation. With its sense of community and beachfront beauty, the Coastal Community is the perfect place for those looking to live the coastal lifestyle.'}, {'title': 'Sleek Urban Townhouse with Rooftop Deck', 'bedroom': 3, 'bathroom': 3, 'garage': 1, 'price_usd': 600000, 'size_sqft': 1800, 'description': \"Live in style in this sleek urban townhouse with a rooftop deck. Featuring 3 modern bedrooms, 3 designer bathrooms, and a 1-car garage, this townhouse is perfect for those who appreciate contemporary design. The open-concept living area is flooded with natural light, thanks to the large windows and skylights. The gourmet kitchen is a chef's dream, with high-end appliances and quartz countertops. The master suite is a private retreat, with a spa-like bathroom and a walk-in closet. The rooftop deck offers panoramic views of the city skyline, perfect for entertaining or relaxing.\", 'neighborhood': 'Urban Downtown', 'neighborhood_details': 'Urban Downtown is a bustling neighborhood known for its vibrant nightlife, trendy restaurants, and cultural attractions. Located in the heart of the city, this neighborhood offers easy access to shopping, dining, and entertainment. Residents enjoy a dynamic urban lifestyle with plenty of opportunities for socializing and exploring. With its diverse community and lively atmosphere, Urban Downtown is the perfect place for those looking to live in the heart of the action.'}, {'title': 'Mountain Retreat with Sweeping Views', 'bedroom': 5, 'bathroom': 4, 'garage': 2, 'price_usd': 2000000, 'size_sqft': 4000, 'description': \"Escape to the mountains in this stunning retreat with sweeping views. Boasting 5 spacious bedrooms, 4 luxurious bathrooms, and a 2-car garage, this home is a true sanctuary. The open-concept living area features a stone fireplace and vaulted ceilings, creating a warm and inviting atmosphere. The gourmet kitchen is a chef's dream, with high-end appliances and custom cabinetry. The master suite is a private oasis, with a spa-like bathroom and a private balcony. The outdoor deck is perfect for enjoying the fresh mountain air, with a hot tub and built-in seating. This mountain retreat is a rare find for those seeking peace and tranquility.\", 'neighborhood': 'Mountain Community', 'neighborhood_details': 'The Mountain Community is a serene and picturesque neighborhood known for its stunning mountain views and outdoor recreation. Nestled in the foothills, this neighborhood offers easy access to hiking trails, ski resorts, and nature preserves. Residents enjoy a peaceful lifestyle with plenty of opportunities for outdoor adventure. With its sense of tranquility and natural beauty, the Mountain Community is the perfect place for those looking to live in harmony with the mountains.'}, {'title': 'Luxury Penthouse with Panoramic City Views', 'bedroom': 4, 'bathroom': 4, 'garage': 3, 'price_usd': 3500000, 'size_sqft': 4500, 'description': \"Live in the lap of luxury in this stunning penthouse with panoramic city views. With 4 elegant bedrooms, 4 opulent bathrooms, and a 3-car garage, this penthouse is a true showstopper. The grand foyer welcomes you with marble floors and a crystal chandelier, while the formal living room boasts floor-to-ceiling windows and a fireplace. The gourmet kitchen is a chef's dream, with top-of-the-line appliances and a large island. The master suite is a private retreat, with a spa-like bathroom and a walk-in closet. The rooftop terrace offers breathtaking views of the city skyline, perfect for entertaining or relaxing.\", 'neighborhood': 'Luxury High-Rise', 'neighborhood_details': 'The Luxury High-Rise is an exclusive neighborhood known for its upscale amenities and breathtaking views. Located in the heart of the city, this neighborhood offers a luxurious lifestyle with concierge services, fitness centers, and rooftop pools. Residents enjoy a sophisticated urban lifestyle with easy access to shopping, dining, and entertainment. With its sense of exclusivity and high-end living, the Luxury High-Rise is the perfect place for those looking to live in the lap of luxury.'}]}\n",
      "---\n",
      "House data source is ready!\n"
     ]
    }
   ],
   "source": [
    "\n",
    "# Step 1.3: Ask LLM to generate a list of real estate and save to a text file \n",
    "\n",
    "from langchain_core.prompts import ChatPromptTemplate\n",
    "import pandas as pd\n",
    "import os.path\n",
    "\n",
    "HOUSE_FILE_NAME_CSV = \"Listings.csv\"\n",
    "HOUSE_FILE_NAME_TXT = \"Listings.txt\"\n",
    "\n",
    "def generate_house_list():\n",
    "    question = \"\"\"\n",
    "    Generate 11 houses which are currently for sale in the US market, \n",
    "    earch house should include these properties: \n",
    "    title, \n",
    "    number of bedrooms,\n",
    "    number of bathrooms,\n",
    "    number of garadges\n",
    "    price (integer in USD), \n",
    "    size (integer in squre feet), \n",
    "    description of the house with at least 200 words, \n",
    "    neighborhood, \n",
    "    description of neighborhood with at least 100 words\n",
    "    \"\"\"\n",
    "    \n",
    "    structured_llm = llm.with_structured_output(RealEstate, method=\"json_mode\")\n",
    "    listings = structured_llm.invoke(question + \"\\n\\n\" + parser.get_format_instructions())\n",
    "    print(listings)\n",
    "    print(\"---\")\n",
    "    return listings\n",
    "\n",
    "def save_house_list_to(file_name: str, list_dic): \n",
    "    df = pd.DataFrame.from_dict(list_dic)\n",
    "    df.to_csv(file_name)\n",
    "\n",
    "\n",
    "# if the house list file is not there, generate it from LLM\n",
    "file_name_2 = \"house-list-2.csv\"\n",
    "if not os.path.isfile(file_name_2):\n",
    "    houses = generate_house_list()\n",
    "    save_house_list_to(file_name_2, houses[\"houses\"])\n",
    "\n",
    "\n",
    "print(\"House data source is ready!\")\n"
   ]
  },
  {
   "cell_type": "code",
   "execution_count": 9,
   "id": "46381e7b-2a68-4ef3-a36c-585ced2df739",
   "metadata": {},
   "outputs": [
    {
     "data": {
      "text/plain": [
       "[{'title': 'Modern Luxury Home',\n",
       "  'bedroom': 4,\n",
       "  'bathroom': 3,\n",
       "  'garage': 2,\n",
       "  'price_usd': 1000000,\n",
       "  'size_sqft': 3000,\n",
       "  'description': 'This modern luxury home features 4 spacious bedrooms, 3 bathrooms, a gourmet kitchen, and a stunning backyard with a pool. The open floor plan and high ceilings create a sense of grandeur. The master suite includes a walk-in closet and a spa-like bathroom. The outdoor space is perfect for entertaining with a built-in BBQ area and fire pit. Located in a prestigious neighborhood, this home offers the ultimate in luxury living.',\n",
       "  'neighborhood': 'Prestigious Neighborhood',\n",
       "  'neighborhood_details': 'The neighborhood is known for its upscale homes, tree-lined streets, and top-rated schools. Residents enjoy easy access to parks, shopping centers, and fine dining establishments. With a strong sense of community and a low crime rate, this neighborhood is perfect for families looking for a safe and welcoming environment.'},\n",
       " {'title': 'Cozy Cottage',\n",
       "  'bedroom': 2,\n",
       "  'bathroom': 1,\n",
       "  'garage': 1,\n",
       "  'price_usd': 300000,\n",
       "  'size_sqft': 1200,\n",
       "  'description': 'This charming cottage features 2 cozy bedrooms, 1 bathroom, a bright and airy living room, and a spacious backyard. The updated kitchen has stainless steel appliances and granite countertops. The outdoor space is perfect for gardening or relaxing on a sunny day. Located in a quiet neighborhood, this home is ideal for those seeking a peaceful retreat.',\n",
       "  'neighborhood': 'Quiet Suburban Neighborhood',\n",
       "  'neighborhood_details': 'The neighborhood is known for its friendly atmosphere, well-maintained homes, and close-knit community. Residents enjoy easy access to local parks, schools, and shopping centers. With tree-lined streets and a peaceful ambiance, this neighborhood offers a tranquil setting for those looking to escape the hustle and bustle of city life.'},\n",
       " {'title': 'Spacious Family Home',\n",
       "  'bedroom': 5,\n",
       "  'bathroom': 4,\n",
       "  'garage': 3,\n",
       "  'price_usd': 500000,\n",
       "  'size_sqft': 3500,\n",
       "  'description': 'This spacious family home features 5 bedrooms, 4 bathrooms, a large kitchen with an island, and a backyard with a play area. The master suite includes a walk-in closet and a private balcony. The open floor plan is perfect for entertaining guests or hosting family gatherings. Located in a family-friendly neighborhood, this home is ideal for those looking for ample space and comfort.',\n",
       "  'neighborhood': 'Family-Friendly Neighborhood',\n",
       "  'neighborhood_details': 'The neighborhood is known for its excellent schools, parks, and community events. Families enjoy the safe streets, playgrounds, and recreational facilities. With a strong sense of community and a variety of amenities, this neighborhood is perfect for families with children or those looking to settle down in a welcoming environment.'},\n",
       " {'title': 'Rustic Farmhouse',\n",
       "  'bedroom': 3,\n",
       "  'bathroom': 2,\n",
       "  'garage': 2,\n",
       "  'price_usd': 400000,\n",
       "  'size_sqft': 2500,\n",
       "  'description': 'This charming farmhouse features 3 bedrooms, 2 bathrooms, a cozy living room with a fireplace, and a wrap-around porch. The country-style kitchen has custom cabinets and a farmhouse sink. The spacious yard is perfect for gardening or enjoying the peaceful surroundings. Located in a rural neighborhood, this home offers a serene escape from city life.',\n",
       "  'neighborhood': 'Rural Countryside',\n",
       "  'neighborhood_details': 'The neighborhood is surrounded by farmland, rolling hills, and scenic views. Residents enjoy the tranquility of country living, with plenty of space for outdoor activities like hiking, fishing, and horseback riding. With a slower pace of life and a strong sense of community, this neighborhood is perfect for those seeking a peaceful retreat.'},\n",
       " {'title': 'Contemporary Townhouse',\n",
       "  'bedroom': 3,\n",
       "  'bathroom': 2,\n",
       "  'garage': 1,\n",
       "  'price_usd': 350000,\n",
       "  'size_sqft': 1800,\n",
       "  'description': 'This contemporary townhouse features 3 bedrooms, 2 bathrooms, a sleek kitchen with stainless steel appliances, and a rooftop terrace. The open concept design and large windows create a bright and modern living space. The master bedroom has a walk-in closet and an en-suite bathroom. Located in a vibrant neighborhood, this home is perfect for urban living.',\n",
       "  'neighborhood': 'Trendy Urban Neighborhood',\n",
       "  'neighborhood_details': 'The neighborhood is known for its trendy cafes, boutiques, and art galleries. Residents enjoy the vibrant nightlife, cultural events, and diverse dining options. With easy access to public transportation and city amenities, this neighborhood is ideal for young professionals or anyone looking to experience city living at its best.'},\n",
       " {'title': 'Lakefront Retreat',\n",
       "  'bedroom': 4,\n",
       "  'bathroom': 3,\n",
       "  'garage': 2,\n",
       "  'price_usd': 800000,\n",
       "  'size_sqft': 2800,\n",
       "  'description': 'This stunning lakefront retreat features 4 bedrooms, 3 bathrooms, a gourmet kitchen with lake views, and a private dock. The spacious living room has a stone fireplace and floor-to-ceiling windows. The master suite includes a sitting area and a balcony overlooking the water. The outdoor space is perfect for boating, fishing, or simply enjoying the peaceful surroundings. Located on a tranquil lake, this home offers a luxurious escape from the hustle and bustle of city life.',\n",
       "  'neighborhood': 'Lakefront Community',\n",
       "  'neighborhood_details': 'The neighborhood is surrounded by pristine lakes, lush forests, and scenic trails. Residents enjoy water activities like boating, swimming, and kayaking. With a strong sense of community and a focus on outdoor recreation, this neighborhood is perfect for nature lovers or anyone looking to unwind in a picturesque setting.'},\n",
       " {'title': 'Mountain View Cabin',\n",
       "  'bedroom': 2,\n",
       "  'bathroom': 1,\n",
       "  'garage': 0,\n",
       "  'price_usd': 250000,\n",
       "  'size_sqft': 1500,\n",
       "  'description': 'This cozy mountain view cabin features 2 bedrooms, 1 bathroom, a rustic kitchen with a wood-burning stove, and a deck with panoramic views of the mountains. The living room has vaulted ceilings and large windows to take in the natural beauty. The master bedroom has a private balcony overlooking the forest. Located in a secluded mountain community, this cabin is perfect for those seeking a peaceful retreat in nature.',\n",
       "  'neighborhood': 'Secluded Mountain Community',\n",
       "  'neighborhood_details': 'The neighborhood is nestled in the mountains, surrounded by pine forests, hiking trails, and wildlife. Residents enjoy the peace and quiet of mountain living, with opportunities for outdoor activities like skiing, snowshoeing, and mountain biking. With a strong sense of community and a focus on nature conservation, this neighborhood is ideal for outdoor enthusiasts or anyone looking to escape the city.'},\n",
       " {'title': 'Beachfront Bungalow',\n",
       "  'bedroom': 3,\n",
       "  'bathroom': 2,\n",
       "  'garage': 1,\n",
       "  'price_usd': 600000,\n",
       "  'size_sqft': 2000,\n",
       "  'description': 'This charming beachfront bungalow features 3 bedrooms, 2 bathrooms, a sunlit living room with ocean views, and a private patio. The updated kitchen has granite countertops and a breakfast bar. The master suite includes a walk-in closet and a spa-like bathroom. The outdoor space is perfect for watching sunsets or hosting BBQs. Located on a sandy beach, this bungalow offers a coastal lifestyle like no other.',\n",
       "  'neighborhood': 'Sandy Beach Community',\n",
       "  'neighborhood_details': 'The neighborhood is situated along a pristine coastline, with sandy beaches, surf breaks, and beachfront cafes. Residents enjoy water activities like surfing, paddleboarding, and beachcombing. With a laid-back vibe and a focus on coastal living, this neighborhood is perfect for beach lovers or anyone looking to soak up the sun and sea breeze.'},\n",
       " {'title': 'Historic Victorian Mansion',\n",
       "  'bedroom': 6,\n",
       "  'bathroom': 4,\n",
       "  'garage': 3,\n",
       "  'price_usd': 1200000,\n",
       "  'size_sqft': 5000,\n",
       "  'description': 'This historic Victorian mansion features 6 bedrooms, 4 bathrooms, a grand foyer, and a formal dining room. The ornate details and period features add to the charm and character of the home. The master suite includes a sitting area and a clawfoot tub. The expansive grounds include a carriage house and a garden. Located in a historic district, this mansion offers a glimpse into the past with all the modern comforts.',\n",
       "  'neighborhood': 'Historic District',\n",
       "  'neighborhood_details': \"The neighborhood is filled with historic homes, museums, and cultural landmarks. Residents enjoy walking tours, festivals, and events that celebrate the area's rich heritage. With a strong sense of history and a commitment to preservation, this neighborhood is perfect for history buffs or anyone looking to live in a piece of the past.\"},\n",
       " {'title': 'Sustainable Eco-Home',\n",
       "  'bedroom': 3,\n",
       "  'bathroom': 2,\n",
       "  'garage': 2,\n",
       "  'price_usd': 450000,\n",
       "  'size_sqft': 2200,\n",
       "  'description': 'This sustainable eco-home features 3 bedrooms, 2 bathrooms, a solar panel system, and a rainwater collection system. The open concept design and energy-efficient appliances make this home both stylish and eco-friendly. The master bedroom has a walk-in closet and a balcony with garden views. The outdoor space includes a vegetable garden and a composting area. Located in an eco-conscious neighborhood, this home is perfect for those looking to reduce their carbon footprint.',\n",
       "  'neighborhood': 'Eco-Friendly Community',\n",
       "  'neighborhood_details': 'The neighborhood is known for its green initiatives, community gardens, and recycling programs. Residents enjoy sustainable living practices like biking, carpooling, and composting. With a focus on environmental stewardship and a commitment to sustainability, this neighborhood is ideal for eco-conscious individuals or anyone looking to live a more environmentally friendly lifestyle.'},\n",
       " {'title': 'Luxury Penthouse',\n",
       "  'bedroom': 4,\n",
       "  'bathroom': 3,\n",
       "  'garage': 2,\n",
       "  'price_usd': 1500000,\n",
       "  'size_sqft': 4000,\n",
       "  'description': 'This luxurious penthouse features 4 bedrooms, 3 bathrooms, a gourmet kitchen with top-of-the-line appliances, and a private rooftop terrace with city views. The spacious living room has a fireplace and floor-to-ceiling windows. The master suite includes a walk-in closet and a spa-like bathroom. The building offers amenities like a fitness center, pool, and concierge service. Located in a prime downtown location, this penthouse offers the ultimate in urban living.',\n",
       "  'neighborhood': 'Downtown City Center',\n",
       "  'neighborhood_details': 'The neighborhood is the heart of the city, with skyscrapers, shopping centers, and cultural attractions. Residents enjoy easy access to restaurants, theaters, and public transportation. With a vibrant nightlife, bustling streets, and a mix of residential and commercial spaces, this neighborhood is perfect for city dwellers or anyone looking to be in the center of it all.'}]"
      ]
     },
     "execution_count": 9,
     "metadata": {},
     "output_type": "execute_result"
    }
   ],
   "source": [
    "listings[\"houses\"]"
   ]
  },
  {
   "cell_type": "code",
   "execution_count": 14,
   "id": "6e4f3d68-2309-458a-bce9-c00151040126",
   "metadata": {},
   "outputs": [],
   "source": [
    "\n",
    "\n",
    "\n"
   ]
  },
  {
   "cell_type": "code",
   "execution_count": null,
   "id": "335dd7fa-1dd3-489d-8e11-dad930e00988",
   "metadata": {},
   "outputs": [],
   "source": []
  }
 ],
 "metadata": {
  "kernelspec": {
   "display_name": "Python 3 (ipykernel)",
   "language": "python",
   "name": "python3"
  },
  "language_info": {
   "codemirror_mode": {
    "name": "ipython",
    "version": 3
   },
   "file_extension": ".py",
   "mimetype": "text/x-python",
   "name": "python",
   "nbconvert_exporter": "python",
   "pygments_lexer": "ipython3",
   "version": "3.9.6"
  }
 },
 "nbformat": 4,
 "nbformat_minor": 5
}
