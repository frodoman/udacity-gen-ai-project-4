{
 "cells": [
  {
   "cell_type": "markdown",
   "id": "a108af04",
   "metadata": {},
   "source": [
    "This is a starter notebook for the project, you'll have to import the libraries you'll need, you can find a list of the ones available in this workspace in the requirements.txt file in this workspace. "
   ]
  },
  {
   "cell_type": "markdown",
   "id": "4fc99032-628c-4021-bfe2-ce6b6f1a176c",
   "metadata": {},
   "source": [
    "\n",
    "# Project: Personalized Real Estate Agent\n",
    "\n",
    "An example of AI agent built by Python, Langchain, Vector Database and OpenAI's API.\n"
   ]
  },
  {
   "cell_type": "markdown",
   "id": "a54b22ef-70b8-43df-8e1e-086711b06d27",
   "metadata": {},
   "source": [
    "## Step 1: Synthetic Data Generation\n",
    "\n",
    "Generate a list of at least 10 real estates using LLM, \n",
    "which will be served as the data source to store into the vector database.\n"
   ]
  },
  {
   "cell_type": "code",
   "execution_count": 1,
   "id": "6554fd4c",
   "metadata": {},
   "outputs": [
    {
     "name": "stderr",
     "output_type": "stream",
     "text": [
      "/Users/x_coder/Library/Python/3.9/lib/python/site-packages/urllib3/__init__.py:35: NotOpenSSLWarning: urllib3 v2 only supports OpenSSL 1.1.1+, currently the 'ssl' module is compiled with 'LibreSSL 2.8.3'. See: https://github.com/urllib3/urllib3/issues/3020\n",
      "  warnings.warn(\n"
     ]
    }
   ],
   "source": [
    "# Import Python Packages\n",
    "\n",
    "from langchain.llms import OpenAI\n",
    "from langchain.llms import OpenAI\n",
    "from langchain.prompts import PromptTemplate\n",
    "from langchain.output_parsers import PydanticOutputParser\n",
    "from pydantic import BaseModel, Field, NonNegativeInt\n",
    "from typing import List\n",
    "from random import sample \n",
    "from langchain.document_loaders.csv_loader import CSVLoader \n"
   ]
  },
  {
   "cell_type": "code",
   "execution_count": 2,
   "id": "c2c5a61e-f5cf-46b2-b9ea-b70a48040ccd",
   "metadata": {},
   "outputs": [],
   "source": [
    "\n",
    "# Step 1.1: Initialize OpenAI\n",
    "\n",
    "from langchain_openai import ChatOpenAI\n",
    "from dotenv import load_dotenv\n",
    "import os\n",
    "\n",
    "OPENAI_API_KEY = os.getenv(\"OPENAI_API_KEY\")\n",
    "\n",
    "model_name = \"gpt-3.5-turbo\"\n",
    "llm = ChatOpenAI(model=model_name, temperature=0, api_key=OPENAI_API_KEY)\n",
    "#llm = OpenAI(model_name = model_name, temperature=0.0)\n",
    "\n"
   ]
  },
  {
   "cell_type": "code",
   "execution_count": 3,
   "id": "64c7c8e2-8af3-489e-a069-838d80124aca",
   "metadata": {},
   "outputs": [
    {
     "name": "stdout",
     "output_type": "stream",
     "text": [
      "The output should be formatted as a JSON instance that conforms to the JSON schema below.\n",
      "\n",
      "As an example, for the schema {\"properties\": {\"foo\": {\"title\": \"Foo\", \"description\": \"a list of strings\", \"type\": \"array\", \"items\": {\"type\": \"string\"}}}, \"required\": [\"foo\"]}\n",
      "the object {\"foo\": [\"bar\", \"baz\"]} is a well-formatted instance of the schema. The object {\"properties\": {\"foo\": [\"bar\", \"baz\"]}} is not well-formatted.\n",
      "\n",
      "Here is the output schema:\n",
      "```\n",
      "{\"properties\": {\"title\": {\"description\": \"The name or title of a house\", \"title\": \"Title\", \"type\": \"string\"}, \"bedroom\": {\"description\": \"Number of bedroom for a house\", \"title\": \"Bedroom\", \"type\": \"integer\"}, \"bathroom\": {\"description\": \"Number of bathroom for a house\", \"title\": \"Bathroom\", \"type\": \"integer\"}, \"garage\": {\"description\": \"Number of garage for a house\", \"title\": \"Garage\", \"type\": \"integer\"}, \"price_usd\": {\"description\": \"The price of a house in USD\", \"title\": \"Price Usd\", \"type\": \"integer\"}, \"size_sqft\": {\"description\": \"The size of a house in square feet\", \"title\": \"Size Sqft\", \"type\": \"integer\"}, \"description\": {\"description\": \"The 200-word description of a house\", \"title\": \"Description\", \"type\": \"string\"}, \"neighborhood\": {\"description\": \"The brief summary or name of the neighborhood for the house\", \"title\": \"Neighborhood\", \"type\": \"string\"}, \"neighborhood_details\": {\"description\": \"The 200-word description of the neighborhood\", \"title\": \"Neighborhood Details\", \"type\": \"string\"}}, \"required\": [\"title\", \"bedroom\", \"bathroom\", \"garage\", \"price_usd\", \"size_sqft\", \"description\", \"neighborhood\", \"neighborhood_details\"]}\n",
      "```\n"
     ]
    }
   ],
   "source": [
    "\n",
    "# Step 1.2: Define data model for parser\n",
    "\n",
    "class RealEstate(BaseModel):\n",
    "    title: str = Field(description=\"The name or title of a house\")\n",
    "    bedroom: int = Field(description=\"Number of bedroom for a house\")\n",
    "    bathroom: int = Field(description=\"Number of bathroom for a house\")\n",
    "    garage: int = Field(description=\"Number of garage for a house\")\n",
    "    price_usd: int = Field(description=\"The price of a house in USD\")\n",
    "    size_sqft: int = Field(description=\"The size of a house in square feet\") \n",
    "    description: str = Field(description=\"The 200-word description of a house\")\n",
    "    neighborhood: str = Field(description=\"The brief summary or name of the neighborhood for the house\")\n",
    "    neighborhood_details: str = Field(description=\"The 200-word description of the neighborhood\")\n",
    "\n",
    "\n",
    "parser = PydanticOutputParser(pydantic_object=RealEstate)\n",
    "print(parser.get_format_instructions())"
   ]
  },
  {
   "cell_type": "code",
   "execution_count": 28,
   "id": "f81230e4-1419-46d7-be64-5ecb034836a1",
   "metadata": {},
   "outputs": [
    {
     "name": "stdout",
     "output_type": "stream",
     "text": [
      "House data source is ready!\n"
     ]
    }
   ],
   "source": [
    "\n",
    "# Step 1.3: Ask LLM to generate a list of real estate and save to a text file \n",
    "\n",
    "from langchain_core.prompts import ChatPromptTemplate\n",
    "import pandas as pd\n",
    "import os.path\n",
    "\n",
    "HOUSE_FILE_NAME_CSV = \"Listings.csv\"\n",
    "HOUSE_FILE_NAME_TXT = \"Listings.txt\"\n",
    "\n",
    "def generate_house_list():\n",
    "    question = \"\"\"\n",
    "    Generate 11 houses which are currently for sale in the US market, \n",
    "    earch house should include these properties: \n",
    "    title, \n",
    "    number of bedrooms,\n",
    "    number of bathrooms,\n",
    "    number of garadges\n",
    "    price (integer in USD), \n",
    "    size (integer in squre feet), \n",
    "    description of the house with at least 200 words, \n",
    "    neighborhood, \n",
    "    description of neighborhood with at least 100 words\n",
    "    \"\"\"\n",
    "    \n",
    "    structured_llm = llm.with_structured_output(RealEstate, method=\"json_mode\")\n",
    "    listings = structured_llm.invoke(question + \"\\n\\n\" + parser.get_format_instructions())\n",
    "    return listings\n",
    "\n",
    "def save_house_list_to(file_name: str, list_dic): \n",
    "    df = pd.DataFrame.from_dict(list_dic)\n",
    "    df.to_csv(file_name)\n",
    "\n",
    "\n",
    "# if the house list file is not there, generate it from LLM\n",
    "if not os.path.isfile(HOUSE_FILE_NAME_CSV):\n",
    "    houses = generate_house_list()\n",
    "    save_house_list_to(HOUSE_FILE_NAME_CSV, houses[\"houses\"])\n",
    "\n",
    "\n",
    "print(\"House data source is ready!\")\n"
   ]
  },
  {
   "cell_type": "markdown",
   "id": "8712f539-5ae5-4f9c-b092-f2564d7f5082",
   "metadata": {},
   "source": [
    "\n",
    "## Step 2: Semantic Search\n",
    "\n"
   ]
  },
  {
   "cell_type": "code",
   "execution_count": 40,
   "id": "c8c8d5cd-0e83-4a99-845a-0dc6688f6887",
   "metadata": {},
   "outputs": [
    {
     "name": "stdout",
     "output_type": "stream",
     "text": [
      "<langchain_community.vectorstores.chroma.Chroma object at 0x123e43460>\n"
     ]
    }
   ],
   "source": [
    "\n",
    "# Step 2.1: Create a vector database from the house list\n",
    "\n",
    "from langchain.vectorstores import Chroma\n",
    "from langchain.text_splitter import CharacterTextSplitter\n",
    "from langchain.embeddings.openai import OpenAIEmbeddings\n",
    "\n",
    "DATABASE_FILE = \"listings_chroma_db\"\n",
    "\n",
    "# Database not exist, create from the datasource\n",
    "if len(os.listdir(DATABASE_FILE)) == 0:\n",
    "    loader = CSVLoader(file_path = HOUSE_FILE_NAME_CSV)\n",
    "    docs = loader.load()\n",
    "\n",
    "    splitter = CharacterTextSplitter(chunk_size=1000, chunk_overlap=0)\n",
    "    split_docs = splitter.split_documents(docs)\n",
    "\n",
    "    db = Chroma.from_documents(split_docs, OpenAIEmbeddings(), persist_directory= DATABASE_FILE)\n",
    "\n",
    "# Database already exist, just load it \n",
    "else:\n",
    "    db = Chroma(persist_directory=DATABASE_FILE, embedding_function = OpenAIEmbeddings())\n",
    "\n",
    "print(db)\n"
   ]
  },
  {
   "cell_type": "code",
   "execution_count": 50,
   "id": "ae915dda-4abf-4389-843b-8feffddd84bc",
   "metadata": {},
   "outputs": [
    {
     "name": "stdout",
     "output_type": "stream",
     "text": [
      "\n",
      "\n",
      "###\n",
      "\n",
      "Question: How many bedrooms would you like?\n",
      "Anwser: between 3 and 5\n",
      "\n",
      "###\n",
      "\n",
      "Question: How many bathrooms do you prefer?\n",
      "Anwser: At least two\n",
      "\n",
      "###\n",
      "\n",
      "Question: How many garage do you prefer?\n",
      "Anwser: At least one\n",
      "\n",
      "###\n",
      "\n",
      "Question: What is your budget?\n",
      "Anwser: Between 500,000 and 800,000 USD\n",
      "\n",
      "###\n",
      "\n",
      "Question: How big do you want your house to be?\n",
      "Anwser: At least 2000 sqare feet\n",
      "\n",
      "###\n",
      "\n",
      "Question: Which amenities would you like?\n",
      "Anwser: A backyard for gardening and a modern, energy-efficient heating system.\n",
      "\n",
      "###\n",
      "\n",
      "Question: How urban do you want your neighborhood to be?\n",
      "Anwser: A balance between suburban tranquility and access to urban amenities like restaurants and theaters.\n",
      "\n",
      "###\n",
      "\n",
      "Question: Which transportation options are important to you?\n",
      "Anwser: Easy access to a reliable public transport will be a plus but not essential, away from busy vehicle roads and close to bike-friendly roads are preferrable\n",
      "\n",
      "###\n",
      "\n",
      "\n",
      "User preferences are ready!\n"
     ]
    }
   ],
   "source": [
    "\n",
    "# Step 2.2: Prepare User preferences\n",
    "\n",
    "agent_questions = [\n",
    "    \"How many bedrooms would you like?\", \n",
    "    \"How many bathrooms do you prefer?\",\n",
    "    \"How many garage do you prefer?\",\n",
    "    \"What is your budget?\", \n",
    "    \"How big do you want your house to be?\",\n",
    "    \"Which amenities would you like?\",\n",
    "    \"How urban do you want your neighborhood to be?\",\n",
    "    \"Which transportation options are important to you?\",\n",
    "]\n",
    "\n",
    "user_anwsers = [\n",
    "    \"between 3 and 5\",\n",
    "    \"At least two\",\n",
    "    \"At least one\", \n",
    "    \"Between 500,000 and 800,000 USD\",\n",
    "    \"At least 2000 sqare feet\", \n",
    "    \"A backyard for gardening and a modern, energy-efficient heating system.\",\n",
    "    \"A balance between suburban tranquility and access to urban amenities like restaurants and theaters.\", \n",
    "    \"Easy access to a reliable public transport will be a plus but not essential, away from busy vehicle roads and close to bike-friendly roads are preferrable\",\n",
    "]\n",
    "\n",
    "assert (len(agent_questions) == len(user_anwsers)) \n",
    "\n",
    "seperator = \"\\n\\n###\\n\\n\"\n",
    "qa = seperator\n",
    "for i in range(len(agent_questions)):\n",
    "    question = agent_questions[i]\n",
    "    anwser = user_anwsers[i]\n",
    "    qa += \"Question: \" + question + \"\\nAnwser: \" + anwser + seperator\n",
    "\n",
    "print(qa)\n",
    "\n",
    "print(\"User preferences are ready!\")\n"
   ]
  },
  {
   "cell_type": "code",
   "execution_count": 53,
   "id": "013f5058-5d6e-4bb2-a1ba-77cf4567bd18",
   "metadata": {},
   "outputs": [],
   "source": [
    "\n",
    "# Step 2.3: Find the best house based on user's preference from the vector database \n",
    "\n",
    "from langchain.chains import RetrievalQA\n",
    "\n",
    "query = \"\"\"\n",
    "\n",
    "A user is looking for a dream house to buy and has anwsered some questions related to his preference.\n",
    "\n",
    "Based on the following anwsers from the user, please suggest the best house for this user and explain why.\n",
    "\n",
    "Here are the questions and anwsers:\n",
    "\n",
    "\"\"\"\n",
    "\n",
    "prompt = query + qa\n",
    "\n",
    "rag = RetrievalQA.from_chain_type(llm=llm, chain_type=\"stuff\", retriever=db.as_retriever())\n",
    "result = rag.invoke(prompt)\n",
    "\n"
   ]
  },
  {
   "cell_type": "code",
   "execution_count": 54,
   "id": "e0cc76e2-dc60-4fbc-b939-5b87e13cbd4d",
   "metadata": {},
   "outputs": [
    {
     "name": "stdout",
     "output_type": "stream",
     "text": [
      "{'query': '\\n\\nA user is looking for a dream house to buy and has anwsered some questions related to his preference.\\n\\nBased on the following anwsers from the user, please suggest the best house for this user and explain why.\\n\\nHere are the questions and anwsers:\\n\\n\\n\\n###\\n\\nQuestion: How many bedrooms would you like?\\nAnwser: between 3 and 5\\n\\n###\\n\\nQuestion: How many bathrooms do you prefer?\\nAnwser: At least two\\n\\n###\\n\\nQuestion: How many garage do you prefer?\\nAnwser: At least one\\n\\n###\\n\\nQuestion: What is your budget?\\nAnwser: Between 500,000 and 800,000 USD\\n\\n###\\n\\nQuestion: How big do you want your house to be?\\nAnwser: At least 2000 sqare feet\\n\\n###\\n\\nQuestion: Which amenities would you like?\\nAnwser: A backyard for gardening and a modern, energy-efficient heating system.\\n\\n###\\n\\nQuestion: How urban do you want your neighborhood to be?\\nAnwser: A balance between suburban tranquility and access to urban amenities like restaurants and theaters.\\n\\n###\\n\\nQuestion: Which transportation options are important to you?\\nAnwser: Easy access to a reliable public transport will be a plus but not essential, away from busy vehicle roads and close to bike-friendly roads are preferrable\\n\\n###\\n\\n', 'result': 'Based on the user\\'s preferences, the best house suggestion would be the \"Spacious Family Home\" in the Family-Friendly Neighborhood. Here\\'s why:\\n\\n1. **Features**: \\n   - The house has 5 bedrooms and 4 bathrooms, meeting the user\\'s preference for between 3 and 5 bedrooms and at least two bathrooms.\\n   - It also has a 3-car garage, fulfilling the user\\'s preference for at least one garage.\\n   - The size of the house is 3500 square feet, exceeding the user\\'s minimum requirement of 2000 square feet.\\n   - The house has a backyard with a play area, suitable for gardening, which is one of the user\\'s desired amenities.\\n   - The modern features of the house include a large kitchen with an island and a modern, energy-efficient heating system.\\n\\n2. **Price**: \\n   - Priced at 500,000 USD, the house falls within the user\\'s budget range of 500,000 to 800,000 USD.\\n\\n3. **Neighborhood**: \\n   - The house is located in a Family-Friendly Neighborhood known for its excellent schools, parks, and community events, offering a balance between suburban tranquility and access to urban amenities like parks and recreational facilities.\\n\\n4. **Transportation**: \\n   - While the user prefers easy access to reliable public transport, being close to bike-friendly roads is preferable. The neighborhood\\'s safe streets and recreational facilities suggest a bike-friendly environment.\\n\\nOverall, the \"Spacious Family Home\" in the Family-Friendly Neighborhood aligns well with the user\\'s preferences for bedrooms, bathrooms, garage, budget, size, amenities, neighborhood type, and transportation options.'}\n"
     ]
    }
   ],
   "source": [
    "print(result) \n"
   ]
  },
  {
   "cell_type": "markdown",
   "id": "3a3754db-d93a-441c-89f8-3f22e0bbff12",
   "metadata": {},
   "source": [
    "\n",
    "## Step 3: Augmented Response Generation\n"
   ]
  },
  {
   "cell_type": "code",
   "execution_count": null,
   "id": "9d448697-dcf3-434e-b851-57fed915940b",
   "metadata": {},
   "outputs": [],
   "source": []
  }
 ],
 "metadata": {
  "kernelspec": {
   "display_name": "Python 3 (ipykernel)",
   "language": "python",
   "name": "python3"
  },
  "language_info": {
   "codemirror_mode": {
    "name": "ipython",
    "version": 3
   },
   "file_extension": ".py",
   "mimetype": "text/x-python",
   "name": "python",
   "nbconvert_exporter": "python",
   "pygments_lexer": "ipython3",
   "version": "3.9.6"
  }
 },
 "nbformat": 4,
 "nbformat_minor": 5
}
