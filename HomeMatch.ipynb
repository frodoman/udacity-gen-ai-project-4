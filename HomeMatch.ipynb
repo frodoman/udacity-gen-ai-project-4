{
 "cells": [
  {
   "cell_type": "markdown",
   "id": "a108af04",
   "metadata": {},
   "source": [
    "This is a starter notebook for the project, you'll have to import the libraries you'll need, you can find a list of the ones available in this workspace in the requirements.txt file in this workspace. "
   ]
  },
  {
   "cell_type": "markdown",
   "id": "4fc99032-628c-4021-bfe2-ce6b6f1a176c",
   "metadata": {},
   "source": [
    "\n",
    "# Project: Personalized Real Estate Agent\n",
    "\n",
    "An example of AI agent built by Python, Langchain, Vector Database and OpenAI's API.\n"
   ]
  },
  {
   "cell_type": "markdown",
   "id": "a54b22ef-70b8-43df-8e1e-086711b06d27",
   "metadata": {},
   "source": [
    "## Step 1: Synthetic Data Generation\n",
    "\n",
    "Generate a list of at least 10 real estates using LLM, \n",
    "which will be served as the data source to store into the vector database.\n"
   ]
  },
  {
   "cell_type": "code",
   "execution_count": 1,
   "id": "6554fd4c",
   "metadata": {},
   "outputs": [
    {
     "name": "stderr",
     "output_type": "stream",
     "text": [
      "/Users/x_coder/Library/Python/3.9/lib/python/site-packages/urllib3/__init__.py:35: NotOpenSSLWarning: urllib3 v2 only supports OpenSSL 1.1.1+, currently the 'ssl' module is compiled with 'LibreSSL 2.8.3'. See: https://github.com/urllib3/urllib3/issues/3020\n",
      "  warnings.warn(\n"
     ]
    }
   ],
   "source": [
    "# Import Python Packages\n",
    "\n",
    "from langchain.llms import OpenAI\n",
    "from langchain.llms import OpenAI\n",
    "from langchain.prompts import PromptTemplate\n",
    "from langchain.output_parsers import PydanticOutputParser\n",
    "from pydantic import BaseModel, Field, NonNegativeInt\n",
    "from typing import List\n",
    "from random import sample \n",
    "from langchain.document_loaders.csv_loader import CSVLoader \n"
   ]
  },
  {
   "cell_type": "code",
   "execution_count": 2,
   "id": "c2c5a61e-f5cf-46b2-b9ea-b70a48040ccd",
   "metadata": {},
   "outputs": [],
   "source": [
    "\n",
    "# Step 1.1: Initialize OpenAI\n",
    "\n",
    "from langchain_openai import ChatOpenAI\n",
    "from dotenv import load_dotenv\n",
    "import os\n",
    "\n",
    "OPENAI_API_KEY = os.getenv(\"OPENAI_API_KEY\")\n",
    "\n",
    "model_name = \"gpt-3.5-turbo\"\n",
    "llm = ChatOpenAI(model=model_name, temperature=0, api_key=OPENAI_API_KEY)\n",
    "#llm = OpenAI(model_name = model_name, temperature=0.0)\n",
    "\n"
   ]
  },
  {
   "cell_type": "code",
   "execution_count": 3,
   "id": "64c7c8e2-8af3-489e-a069-838d80124aca",
   "metadata": {},
   "outputs": [
    {
     "name": "stdout",
     "output_type": "stream",
     "text": [
      "The output should be formatted as a JSON instance that conforms to the JSON schema below.\n",
      "\n",
      "As an example, for the schema {\"properties\": {\"foo\": {\"title\": \"Foo\", \"description\": \"a list of strings\", \"type\": \"array\", \"items\": {\"type\": \"string\"}}}, \"required\": [\"foo\"]}\n",
      "the object {\"foo\": [\"bar\", \"baz\"]} is a well-formatted instance of the schema. The object {\"properties\": {\"foo\": [\"bar\", \"baz\"]}} is not well-formatted.\n",
      "\n",
      "Here is the output schema:\n",
      "```\n",
      "{\"properties\": {\"title\": {\"description\": \"The name or title of a house\", \"title\": \"Title\", \"type\": \"string\"}, \"bedroom\": {\"description\": \"Number of bedroom for a house\", \"title\": \"Bedroom\", \"type\": \"integer\"}, \"bathroom\": {\"description\": \"Number of bathroom for a house\", \"title\": \"Bathroom\", \"type\": \"integer\"}, \"garage\": {\"description\": \"Number of garage for a house\", \"title\": \"Garage\", \"type\": \"integer\"}, \"price_usd\": {\"description\": \"The price of a house in USD\", \"title\": \"Price Usd\", \"type\": \"integer\"}, \"size_sqft\": {\"description\": \"The size of a house in square feet\", \"title\": \"Size Sqft\", \"type\": \"integer\"}, \"description\": {\"description\": \"The 200-word description of a house\", \"title\": \"Description\", \"type\": \"string\"}, \"neighborhood\": {\"description\": \"The brief summary or name of the neighborhood for the house\", \"title\": \"Neighborhood\", \"type\": \"string\"}, \"neighborhood_details\": {\"description\": \"The 200-word description of the neighborhood\", \"title\": \"Neighborhood Details\", \"type\": \"string\"}}, \"required\": [\"title\", \"bedroom\", \"bathroom\", \"garage\", \"price_usd\", \"size_sqft\", \"description\", \"neighborhood\", \"neighborhood_details\"]}\n",
      "```\n"
     ]
    }
   ],
   "source": [
    "\n",
    "# Step 1.2: Define data model for parser\n",
    "\n",
    "class RealEstate(BaseModel):\n",
    "    title: str = Field(description=\"The name or title of a house\")\n",
    "    bedroom: int = Field(description=\"Number of bedroom for a house\")\n",
    "    bathroom: int = Field(description=\"Number of bathroom for a house\")\n",
    "    garage: int = Field(description=\"Number of garage for a house\")\n",
    "    price_usd: int = Field(description=\"The price of a house in USD\")\n",
    "    size_sqft: int = Field(description=\"The size of a house in square feet\") \n",
    "    description: str = Field(description=\"The 200-word description of a house\")\n",
    "    neighborhood: str = Field(description=\"The brief summary or name of the neighborhood for the house\")\n",
    "    neighborhood_details: str = Field(description=\"The 200-word description of the neighborhood\")\n",
    "\n",
    "\n",
    "parser = PydanticOutputParser(pydantic_object=RealEstate)\n",
    "print(parser.get_format_instructions())"
   ]
  },
  {
   "cell_type": "code",
   "execution_count": 7,
   "id": "f81230e4-1419-46d7-be64-5ecb034836a1",
   "metadata": {},
   "outputs": [],
   "source": [
    "\n",
    "# Step 1.3: Ask LLM to generate a list of real estate \n",
    "\n",
    "from langchain_core.prompts import ChatPromptTemplate\n",
    "\n",
    "question = \"\"\"\n",
    "Generate 11 houses which are currently for sale in the US market, \n",
    "earch house should include these properties: \n",
    "title, \n",
    "number of bedrooms,\n",
    "number of bathrooms,\n",
    "number of garadges\n",
    "price (integer in USD), \n",
    "size (integer in squre feet), \n",
    "description of the house with at least 200 words, \n",
    "neighborhood, \n",
    "description of neighborhood with at least 100 words\n",
    "\"\"\"\n",
    "\n",
    "structured_llm = llm.with_structured_output(RealEstate, method=\"json_mode\")\n",
    "listings = structured_llm.invoke(question + \"\\n\\n\" + parser.get_format_instructions())\n",
    "\n",
    "print(\"Datasource for real estate is ready\")"
   ]
  },
  {
   "cell_type": "code",
   "execution_count": 9,
   "id": "46381e7b-2a68-4ef3-a36c-585ced2df739",
   "metadata": {},
   "outputs": [
    {
     "data": {
      "text/plain": [
       "[{'title': 'Modern Luxury Home',\n",
       "  'bedroom': 4,\n",
       "  'bathroom': 3,\n",
       "  'garage': 2,\n",
       "  'price_usd': 1000000,\n",
       "  'size_sqft': 3000,\n",
       "  'description': 'This modern luxury home features 4 spacious bedrooms, 3 bathrooms, a gourmet kitchen, and a stunning backyard with a pool. The open floor plan and high ceilings create a sense of grandeur. The master suite includes a walk-in closet and a spa-like bathroom. The outdoor space is perfect for entertaining with a built-in BBQ area and fire pit. Located in a prestigious neighborhood, this home offers the ultimate in luxury living.',\n",
       "  'neighborhood': 'Prestigious Neighborhood',\n",
       "  'neighborhood_details': 'The neighborhood is known for its upscale homes, tree-lined streets, and top-rated schools. Residents enjoy easy access to parks, shopping centers, and fine dining establishments. With a strong sense of community and a low crime rate, this neighborhood is perfect for families looking for a safe and welcoming environment.'},\n",
       " {'title': 'Cozy Cottage',\n",
       "  'bedroom': 2,\n",
       "  'bathroom': 1,\n",
       "  'garage': 1,\n",
       "  'price_usd': 300000,\n",
       "  'size_sqft': 1200,\n",
       "  'description': 'This charming cottage features 2 cozy bedrooms, 1 bathroom, a bright and airy living room, and a spacious backyard. The updated kitchen has stainless steel appliances and granite countertops. The outdoor space is perfect for gardening or relaxing on a sunny day. Located in a quiet neighborhood, this home is ideal for those seeking a peaceful retreat.',\n",
       "  'neighborhood': 'Quiet Suburban Neighborhood',\n",
       "  'neighborhood_details': 'The neighborhood is known for its friendly atmosphere, well-maintained homes, and close-knit community. Residents enjoy easy access to local parks, schools, and shopping centers. With tree-lined streets and a peaceful ambiance, this neighborhood offers a tranquil setting for those looking to escape the hustle and bustle of city life.'},\n",
       " {'title': 'Spacious Family Home',\n",
       "  'bedroom': 5,\n",
       "  'bathroom': 4,\n",
       "  'garage': 3,\n",
       "  'price_usd': 500000,\n",
       "  'size_sqft': 3500,\n",
       "  'description': 'This spacious family home features 5 bedrooms, 4 bathrooms, a large kitchen with an island, and a backyard with a play area. The master suite includes a walk-in closet and a private balcony. The open floor plan is perfect for entertaining guests or hosting family gatherings. Located in a family-friendly neighborhood, this home is ideal for those looking for ample space and comfort.',\n",
       "  'neighborhood': 'Family-Friendly Neighborhood',\n",
       "  'neighborhood_details': 'The neighborhood is known for its excellent schools, parks, and community events. Families enjoy the safe streets, playgrounds, and recreational facilities. With a strong sense of community and a variety of amenities, this neighborhood is perfect for families with children or those looking to settle down in a welcoming environment.'},\n",
       " {'title': 'Rustic Farmhouse',\n",
       "  'bedroom': 3,\n",
       "  'bathroom': 2,\n",
       "  'garage': 2,\n",
       "  'price_usd': 400000,\n",
       "  'size_sqft': 2500,\n",
       "  'description': 'This charming farmhouse features 3 bedrooms, 2 bathrooms, a cozy living room with a fireplace, and a wrap-around porch. The country-style kitchen has custom cabinets and a farmhouse sink. The spacious yard is perfect for gardening or enjoying the peaceful surroundings. Located in a rural neighborhood, this home offers a serene escape from city life.',\n",
       "  'neighborhood': 'Rural Countryside',\n",
       "  'neighborhood_details': 'The neighborhood is surrounded by farmland, rolling hills, and scenic views. Residents enjoy the tranquility of country living, with plenty of space for outdoor activities like hiking, fishing, and horseback riding. With a slower pace of life and a strong sense of community, this neighborhood is perfect for those seeking a peaceful retreat.'},\n",
       " {'title': 'Contemporary Townhouse',\n",
       "  'bedroom': 3,\n",
       "  'bathroom': 2,\n",
       "  'garage': 1,\n",
       "  'price_usd': 350000,\n",
       "  'size_sqft': 1800,\n",
       "  'description': 'This contemporary townhouse features 3 bedrooms, 2 bathrooms, a sleek kitchen with stainless steel appliances, and a rooftop terrace. The open concept design and large windows create a bright and modern living space. The master bedroom has a walk-in closet and an en-suite bathroom. Located in a vibrant neighborhood, this home is perfect for urban living.',\n",
       "  'neighborhood': 'Trendy Urban Neighborhood',\n",
       "  'neighborhood_details': 'The neighborhood is known for its trendy cafes, boutiques, and art galleries. Residents enjoy the vibrant nightlife, cultural events, and diverse dining options. With easy access to public transportation and city amenities, this neighborhood is ideal for young professionals or anyone looking to experience city living at its best.'},\n",
       " {'title': 'Lakefront Retreat',\n",
       "  'bedroom': 4,\n",
       "  'bathroom': 3,\n",
       "  'garage': 2,\n",
       "  'price_usd': 800000,\n",
       "  'size_sqft': 2800,\n",
       "  'description': 'This stunning lakefront retreat features 4 bedrooms, 3 bathrooms, a gourmet kitchen with lake views, and a private dock. The spacious living room has a stone fireplace and floor-to-ceiling windows. The master suite includes a sitting area and a balcony overlooking the water. The outdoor space is perfect for boating, fishing, or simply enjoying the peaceful surroundings. Located on a tranquil lake, this home offers a luxurious escape from the hustle and bustle of city life.',\n",
       "  'neighborhood': 'Lakefront Community',\n",
       "  'neighborhood_details': 'The neighborhood is surrounded by pristine lakes, lush forests, and scenic trails. Residents enjoy water activities like boating, swimming, and kayaking. With a strong sense of community and a focus on outdoor recreation, this neighborhood is perfect for nature lovers or anyone looking to unwind in a picturesque setting.'},\n",
       " {'title': 'Mountain View Cabin',\n",
       "  'bedroom': 2,\n",
       "  'bathroom': 1,\n",
       "  'garage': 0,\n",
       "  'price_usd': 250000,\n",
       "  'size_sqft': 1500,\n",
       "  'description': 'This cozy mountain view cabin features 2 bedrooms, 1 bathroom, a rustic kitchen with a wood-burning stove, and a deck with panoramic views of the mountains. The living room has vaulted ceilings and large windows to take in the natural beauty. The master bedroom has a private balcony overlooking the forest. Located in a secluded mountain community, this cabin is perfect for those seeking a peaceful retreat in nature.',\n",
       "  'neighborhood': 'Secluded Mountain Community',\n",
       "  'neighborhood_details': 'The neighborhood is nestled in the mountains, surrounded by pine forests, hiking trails, and wildlife. Residents enjoy the peace and quiet of mountain living, with opportunities for outdoor activities like skiing, snowshoeing, and mountain biking. With a strong sense of community and a focus on nature conservation, this neighborhood is ideal for outdoor enthusiasts or anyone looking to escape the city.'},\n",
       " {'title': 'Beachfront Bungalow',\n",
       "  'bedroom': 3,\n",
       "  'bathroom': 2,\n",
       "  'garage': 1,\n",
       "  'price_usd': 600000,\n",
       "  'size_sqft': 2000,\n",
       "  'description': 'This charming beachfront bungalow features 3 bedrooms, 2 bathrooms, a sunlit living room with ocean views, and a private patio. The updated kitchen has granite countertops and a breakfast bar. The master suite includes a walk-in closet and a spa-like bathroom. The outdoor space is perfect for watching sunsets or hosting BBQs. Located on a sandy beach, this bungalow offers a coastal lifestyle like no other.',\n",
       "  'neighborhood': 'Sandy Beach Community',\n",
       "  'neighborhood_details': 'The neighborhood is situated along a pristine coastline, with sandy beaches, surf breaks, and beachfront cafes. Residents enjoy water activities like surfing, paddleboarding, and beachcombing. With a laid-back vibe and a focus on coastal living, this neighborhood is perfect for beach lovers or anyone looking to soak up the sun and sea breeze.'},\n",
       " {'title': 'Historic Victorian Mansion',\n",
       "  'bedroom': 6,\n",
       "  'bathroom': 4,\n",
       "  'garage': 3,\n",
       "  'price_usd': 1200000,\n",
       "  'size_sqft': 5000,\n",
       "  'description': 'This historic Victorian mansion features 6 bedrooms, 4 bathrooms, a grand foyer, and a formal dining room. The ornate details and period features add to the charm and character of the home. The master suite includes a sitting area and a clawfoot tub. The expansive grounds include a carriage house and a garden. Located in a historic district, this mansion offers a glimpse into the past with all the modern comforts.',\n",
       "  'neighborhood': 'Historic District',\n",
       "  'neighborhood_details': \"The neighborhood is filled with historic homes, museums, and cultural landmarks. Residents enjoy walking tours, festivals, and events that celebrate the area's rich heritage. With a strong sense of history and a commitment to preservation, this neighborhood is perfect for history buffs or anyone looking to live in a piece of the past.\"},\n",
       " {'title': 'Sustainable Eco-Home',\n",
       "  'bedroom': 3,\n",
       "  'bathroom': 2,\n",
       "  'garage': 2,\n",
       "  'price_usd': 450000,\n",
       "  'size_sqft': 2200,\n",
       "  'description': 'This sustainable eco-home features 3 bedrooms, 2 bathrooms, a solar panel system, and a rainwater collection system. The open concept design and energy-efficient appliances make this home both stylish and eco-friendly. The master bedroom has a walk-in closet and a balcony with garden views. The outdoor space includes a vegetable garden and a composting area. Located in an eco-conscious neighborhood, this home is perfect for those looking to reduce their carbon footprint.',\n",
       "  'neighborhood': 'Eco-Friendly Community',\n",
       "  'neighborhood_details': 'The neighborhood is known for its green initiatives, community gardens, and recycling programs. Residents enjoy sustainable living practices like biking, carpooling, and composting. With a focus on environmental stewardship and a commitment to sustainability, this neighborhood is ideal for eco-conscious individuals or anyone looking to live a more environmentally friendly lifestyle.'},\n",
       " {'title': 'Luxury Penthouse',\n",
       "  'bedroom': 4,\n",
       "  'bathroom': 3,\n",
       "  'garage': 2,\n",
       "  'price_usd': 1500000,\n",
       "  'size_sqft': 4000,\n",
       "  'description': 'This luxurious penthouse features 4 bedrooms, 3 bathrooms, a gourmet kitchen with top-of-the-line appliances, and a private rooftop terrace with city views. The spacious living room has a fireplace and floor-to-ceiling windows. The master suite includes a walk-in closet and a spa-like bathroom. The building offers amenities like a fitness center, pool, and concierge service. Located in a prime downtown location, this penthouse offers the ultimate in urban living.',\n",
       "  'neighborhood': 'Downtown City Center',\n",
       "  'neighborhood_details': 'The neighborhood is the heart of the city, with skyscrapers, shopping centers, and cultural attractions. Residents enjoy easy access to restaurants, theaters, and public transportation. With a vibrant nightlife, bustling streets, and a mix of residential and commercial spaces, this neighborhood is perfect for city dwellers or anyone looking to be in the center of it all.'}]"
      ]
     },
     "execution_count": 9,
     "metadata": {},
     "output_type": "execute_result"
    }
   ],
   "source": [
    "listings[\"houses\"]"
   ]
  },
  {
   "cell_type": "code",
   "execution_count": 14,
   "id": "6e4f3d68-2309-458a-bce9-c00151040126",
   "metadata": {},
   "outputs": [],
   "source": [
    "import pandas as pd\n",
    "\n",
    "df = pd.DataFrame.from_dict(listings[\"houses\"])\n",
    "df.to_csv(\"Listings.csv\")\n"
   ]
  },
  {
   "cell_type": "code",
   "execution_count": null,
   "id": "335dd7fa-1dd3-489d-8e11-dad930e00988",
   "metadata": {},
   "outputs": [],
   "source": []
  }
 ],
 "metadata": {
  "kernelspec": {
   "display_name": "Python 3 (ipykernel)",
   "language": "python",
   "name": "python3"
  },
  "language_info": {
   "codemirror_mode": {
    "name": "ipython",
    "version": 3
   },
   "file_extension": ".py",
   "mimetype": "text/x-python",
   "name": "python",
   "nbconvert_exporter": "python",
   "pygments_lexer": "ipython3",
   "version": "3.9.6"
  }
 },
 "nbformat": 4,
 "nbformat_minor": 5
}
